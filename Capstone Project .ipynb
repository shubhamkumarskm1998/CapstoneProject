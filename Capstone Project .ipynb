{
 "cells": [
  {
   "cell_type": "markdown",
   "metadata": {},
   "source": [
    "## Regression - Predicting the Attrition Rate  "
   ]
  },
  {
   "cell_type": "markdown",
   "metadata": {},
   "source": [
    "Introduction: You have been hired as a new data engineer at Analytixlabs. Your first major task is a data engineering project on employees of the one of the big corporation from the 1980s and 1995s. All that remain of the database of employees from that period are six CSV files. In this project, you will design the tables to hold data in the CSVs, import the CSVs into a SQL database, import to HDFS/Hive, and perform analysis using Hive/Impala/Spark/SparkML using the data and create pipelines.\n",
    "\n",
    "This dataset contains 6 files which includes Employees. It includes employees who worked till 2013 only Definition of Target and Outcome Window: the company wants to predict the the employees who is likely leave Company so they want to predict the attrition Rate\n",
    "    "
   ]
  },
  {
   "cell_type": "code",
   "execution_count": 1,
   "metadata": {},
   "outputs": [],
   "source": [
    "from pyspark.sql import SparkSession\n",
    "\n",
    "sparkSession = (SparkSession.builder.appName(\"shubham\")\\\n",
    "                .config(\"hive.metastore.uris\",\"thrift://ip-10-1-1-204.ap-south-1.compute.internal:3306\")\\\n",
    "                .enableHiveSupport().getOrCreate())"
   ]
  },
  {
   "cell_type": "code",
   "execution_count": 2,
   "metadata": {},
   "outputs": [
    {
     "data": {
      "text/html": [
       "\n",
       "            <div>\n",
       "                <p><b>SparkSession - hive</b></p>\n",
       "                \n",
       "        <div>\n",
       "            <p><b>SparkContext</b></p>\n",
       "\n",
       "            <p><a href=\"http://ip-10-1-1-204.ap-south-1.compute.internal:43034\">Spark UI</a></p>\n",
       "\n",
       "            <dl>\n",
       "              <dt>Version</dt>\n",
       "                <dd><code>v2.4.0</code></dd>\n",
       "              <dt>Master</dt>\n",
       "                <dd><code>local[*]</code></dd>\n",
       "              <dt>AppName</dt>\n",
       "                <dd><code>shubham</code></dd>\n",
       "            </dl>\n",
       "        </div>\n",
       "        \n",
       "            </div>\n",
       "        "
      ],
      "text/plain": [
       "<pyspark.sql.session.SparkSession at 0x7fbb3c136290>"
      ]
     },
     "execution_count": 2,
     "metadata": {},
     "output_type": "execute_result"
    }
   ],
   "source": [
    "sparkSession"
   ]
  },
  {
   "cell_type": "code",
   "execution_count": 5,
   "metadata": {},
   "outputs": [],
   "source": [
    "import os\n",
    "os.environ['PYSPARK_DRIVER_PYTHON'] = '/opt/anaconda3/bin/python3.7'\n",
    "os.environ['PYSPARK_PYTHON'] = '/opt/anaconda3/bin/python3.7'\n",
    "os.environ[\"SPARK_HOME\"] = '/opt/cloudera/parcels/CDH/lib/spark'\n",
    "\n",
    "\n",
    "import findspark\n",
    "findspark.init()\n",
    "from pyspark import SparkContext, SparkConf\n",
    "from pyspark.sql import SparkSession,SQLContext, Row"
   ]
  },
  {
   "cell_type": "code",
   "execution_count": 4,
   "metadata": {},
   "outputs": [],
   "source": [
    "spark= (SparkSession.builder.appName(\"app_name\").config(\"hive.metastore.uris\",\"thrift://ip-10-1-2-24.ap-south-1.compute.internal:9083\").enableHiveSupport().getOrCreate())"
   ]
  },
  {
   "cell_type": "code",
   "execution_count": 5,
   "metadata": {},
   "outputs": [
    {
     "data": {
      "text/html": [
       "\n",
       "            <div>\n",
       "                <p><b>SparkSession - hive</b></p>\n",
       "                \n",
       "        <div>\n",
       "            <p><b>SparkContext</b></p>\n",
       "\n",
       "            <p><a href=\"http://ip-10-1-1-204.ap-south-1.compute.internal:43034\">Spark UI</a></p>\n",
       "\n",
       "            <dl>\n",
       "              <dt>Version</dt>\n",
       "                <dd><code>v2.4.0</code></dd>\n",
       "              <dt>Master</dt>\n",
       "                <dd><code>local[*]</code></dd>\n",
       "              <dt>AppName</dt>\n",
       "                <dd><code>shubham</code></dd>\n",
       "            </dl>\n",
       "        </div>\n",
       "        \n",
       "            </div>\n",
       "        "
      ],
      "text/plain": [
       "<pyspark.sql.session.SparkSession at 0x7fbb3c136290>"
      ]
     },
     "execution_count": 5,
     "metadata": {},
     "output_type": "execute_result"
    }
   ],
   "source": [
    "spark"
   ]
  },
  {
   "cell_type": "code",
   "execution_count": 6,
   "metadata": {},
   "outputs": [],
   "source": [
    "spark = SparkSession.builder.appName(\"app_name\").config(\"spark.sql.catalogImplementation=hive\").enableHiveSupport().getOrCreate() "
   ]
  },
  {
   "cell_type": "code",
   "execution_count": 7,
   "metadata": {},
   "outputs": [
    {
     "data": {
      "text/html": [
       "\n",
       "            <div>\n",
       "                <p><b>SparkSession - hive</b></p>\n",
       "                \n",
       "        <div>\n",
       "            <p><b>SparkContext</b></p>\n",
       "\n",
       "            <p><a href=\"http://ip-10-1-1-204.ap-south-1.compute.internal:43034\">Spark UI</a></p>\n",
       "\n",
       "            <dl>\n",
       "              <dt>Version</dt>\n",
       "                <dd><code>v2.4.0</code></dd>\n",
       "              <dt>Master</dt>\n",
       "                <dd><code>local[*]</code></dd>\n",
       "              <dt>AppName</dt>\n",
       "                <dd><code>shubham</code></dd>\n",
       "            </dl>\n",
       "        </div>\n",
       "        \n",
       "            </div>\n",
       "        "
      ],
      "text/plain": [
       "<pyspark.sql.session.SparkSession at 0x7fbb3c136290>"
      ]
     },
     "execution_count": 7,
     "metadata": {},
     "output_type": "execute_result"
    }
   ],
   "source": [
    "spark"
   ]
  },
  {
   "cell_type": "code",
   "execution_count": 8,
   "metadata": {},
   "outputs": [
    {
     "name": "stdout",
     "output_type": "stream",
     "text": [
      "++\n",
      "||\n",
      "++\n",
      "++\n",
      "\n"
     ]
    }
   ],
   "source": [
    "spark.sql(\"use shubham\").show()"
   ]
  },
  {
   "cell_type": "code",
   "execution_count": 11,
   "metadata": {},
   "outputs": [],
   "source": [
    "Employees=spark.sql(\"select * from Employees\")"
   ]
  },
  {
   "cell_type": "code",
   "execution_count": 12,
   "metadata": {},
   "outputs": [
    {
     "data": {
      "text/plain": [
       "pyspark.sql.dataframe.DataFrame"
      ]
     },
     "execution_count": 12,
     "metadata": {},
     "output_type": "execute_result"
    }
   ],
   "source": [
    "type(Employees)"
   ]
  },
  {
   "cell_type": "code",
   "execution_count": 14,
   "metadata": {},
   "outputs": [
    {
     "name": "stdout",
     "output_type": "stream",
     "text": [
      "root\n",
      " |-- emp_no: long (nullable = true)\n",
      " |-- emp_titles_id: string (nullable = true)\n",
      " |-- birth_date: string (nullable = true)\n",
      " |-- first_name: string (nullable = true)\n",
      " |-- last_name: string (nullable = true)\n",
      " |-- sex: string (nullable = true)\n",
      " |-- hire_date: string (nullable = true)\n",
      " |-- no_of_projects: integer (nullable = true)\n",
      " |-- last_performance_rating: string (nullable = true)\n",
      " |-- left_job: integer (nullable = true)\n",
      " |-- last_date: string (nullable = true)\n",
      "\n"
     ]
    }
   ],
   "source": [
    "Employees.printSchema()"
   ]
  },
  {
   "cell_type": "code",
   "execution_count": 15,
   "metadata": {},
   "outputs": [
    {
     "data": {
      "text/plain": [
       "[('emp_no', 'bigint'),\n",
       " ('emp_titles_id', 'string'),\n",
       " ('birth_date', 'string'),\n",
       " ('first_name', 'string'),\n",
       " ('last_name', 'string'),\n",
       " ('sex', 'string'),\n",
       " ('hire_date', 'string'),\n",
       " ('no_of_projects', 'int'),\n",
       " ('last_performance_rating', 'string'),\n",
       " ('left_job', 'int'),\n",
       " ('last_date', 'string')]"
      ]
     },
     "execution_count": 15,
     "metadata": {},
     "output_type": "execute_result"
    }
   ],
   "source": [
    "Employees.dtypes"
   ]
  },
  {
   "cell_type": "code",
   "execution_count": 352,
   "metadata": {},
   "outputs": [
    {
     "name": "stdout",
     "output_type": "stream",
     "text": [
      "+------+-------------+----------+----------+-----------+---+----------+--------------+-----------------------+--------+----------+\n",
      "|emp_no|emp_titles_id|birth_date|first_name|  last_name|sex| hire_date|no_of_projects|last_performance_rating|left_job| last_date|\n",
      "+------+-------------+----------+----------+-----------+---+----------+--------------+-----------------------+--------+----------+\n",
      "|\n",
      "|\n",
      "|\n",
      "|\n",
      "|\n",
      "|\n",
      "|\n",
      "|\n",
      "|\n",
      "|\n",
      "|\n",
      "|\n",
      "|\n",
      "|\n",
      "|\n",
      "|\n",
      "|\n",
      "|\n",
      "|\n",
      "|\n",
      "+------+-------------+----------+----------+-----------+---+----------+--------------+-----------------------+--------+----------+\n",
      "only showing top 20 rows\n",
      "\n"
     ]
    }
   ],
   "source": [
    "Employees.show()"
   ]
  },
  {
   "cell_type": "code",
   "execution_count": 16,
   "metadata": {},
   "outputs": [
    {
     "data": {
      "text/plain": [
       "300024"
      ]
     },
     "execution_count": 16,
     "metadata": {},
     "output_type": "execute_result"
    }
   ],
   "source": [
    "Employees.count()"
   ]
  },
  {
   "cell_type": "code",
   "execution_count": 9,
   "metadata": {},
   "outputs": [],
   "source": [
    "Departments = spark.sql(\"select * from Departments\")"
   ]
  },
  {
   "cell_type": "code",
   "execution_count": 10,
   "metadata": {},
   "outputs": [
    {
     "name": "stdout",
     "output_type": "stream",
     "text": [
      "+-------+-------------------+\n",
      "|dept_no|          dept_name|\n",
      "+-------+-------------------+\n",
      "|   d001|        \"Marketing\"|\n",
      "|   d002|          \"Finance\"|\n",
      "|   d003|  \"Human Resources\"|\n",
      "|   d004|       \"Production\"|\n",
      "|   d005|      \"development\"|\n",
      "|   d006|\"Quality Management|\n",
      "|   d007|            \"Sales\"|\n",
      "|   d008|         \"Research\"|\n",
      "|   d009| \"Customer Service\"|\n",
      "+-------+-------------------+\n",
      "\n"
     ]
    }
   ],
   "source": [
    "Departments.show()"
   ]
  },
  {
   "cell_type": "code",
   "execution_count": 17,
   "metadata": {},
   "outputs": [],
   "source": [
    "Salaries =spark.sql(\"Select * from Salaries\")"
   ]
  },
  {
   "cell_type": "code",
   "execution_count": 18,
   "metadata": {},
   "outputs": [
    {
     "name": "stdout",
     "output_type": "stream",
     "text": [
      "+------+------+\n",
      "|emp_no|salary|\n",
      "+------+------+\n",
      "| 10001| 60117|\n",
      "| 10002| 65828|\n",
      "| 10003| 40006|\n",
      "| 10004| 40054|\n",
      "| 10005| 78228|\n",
      "| 10006| 40000|\n",
      "| 10007| 56724|\n",
      "| 10008| 46671|\n",
      "| 10009| 60929|\n",
      "| 10010| 72488|\n",
      "| 10011| 42365|\n",
      "| 10012| 40000|\n",
      "| 10013| 40000|\n",
      "| 10014| 46168|\n",
      "| 10015| 40000|\n",
      "| 10016| 70889|\n",
      "| 10017| 71380|\n",
      "| 10018| 55881|\n",
      "| 10019| 44276|\n",
      "| 10020| 40000|\n",
      "+------+------+\n",
      "only showing top 20 rows\n",
      "\n"
     ]
    }
   ],
   "source": [
    "Salaries.show()"
   ]
  },
  {
   "cell_type": "code",
   "execution_count": 19,
   "metadata": {},
   "outputs": [],
   "source": [
    "Department_emoloyees =spark.sql(\"select * from Department_Employees\")"
   ]
  },
  {
   "cell_type": "code",
   "execution_count": 20,
   "metadata": {},
   "outputs": [
    {
     "name": "stdout",
     "output_type": "stream",
     "text": [
      "+------+-------+\n",
      "|emp_no|dept_no|\n",
      "+------+-------+\n",
      "| 10001|   d005|\n",
      "| 10002|   d007|\n",
      "| 10003|   d004|\n",
      "| 10004|   d004|\n",
      "| 10005|   d003|\n",
      "| 10006|   d005|\n",
      "| 10007|   d008|\n",
      "| 10008|   d005|\n",
      "| 10009|   d006|\n",
      "| 10010|   d004|\n",
      "| 10010|   d006|\n",
      "| 10011|   d009|\n",
      "| 10012|   d005|\n",
      "| 10013|   d003|\n",
      "| 10014|   d005|\n",
      "| 10015|   d008|\n",
      "| 10016|   d007|\n",
      "| 10017|   d001|\n",
      "| 10018|   d004|\n",
      "| 10018|   d005|\n",
      "+------+-------+\n",
      "only showing top 20 rows\n",
      "\n"
     ]
    }
   ],
   "source": [
    "Department_emoloyees.show()"
   ]
  },
  {
   "cell_type": "code",
   "execution_count": 21,
   "metadata": {},
   "outputs": [
    {
     "name": "stdout",
     "output_type": "stream",
     "text": [
      "root\n",
      " |-- emp_no: long (nullable = true)\n",
      " |-- dept_no: string (nullable = true)\n",
      "\n"
     ]
    }
   ],
   "source": [
    "Department_emoloyees.printSchema()"
   ]
  },
  {
   "cell_type": "code",
   "execution_count": 22,
   "metadata": {},
   "outputs": [],
   "source": [
    "Titles =spark.sql(\"Select * from Titles\")"
   ]
  },
  {
   "cell_type": "code",
   "execution_count": 23,
   "metadata": {},
   "outputs": [
    {
     "name": "stdout",
     "output_type": "stream",
     "text": [
      "+--------+------------------+\n",
      "|title_id|             title|\n",
      "+--------+------------------+\n",
      "|   s0001|             Staff|\n",
      "|   s0002|      Senior Staff|\n",
      "|   e0001|Assistant Engineer|\n",
      "|   e0002|          Engineer|\n",
      "|   e0003|   Senior Engineer|\n",
      "|   e0004|  Technique Leader|\n",
      "|   m0001|           Manager|\n",
      "+--------+------------------+\n",
      "\n"
     ]
    }
   ],
   "source": [
    "Titles.show()"
   ]
  },
  {
   "cell_type": "code",
   "execution_count": 24,
   "metadata": {},
   "outputs": [],
   "source": [
    "Department_managers=spark.sql(\"Select * from Department_managers\")"
   ]
  },
  {
   "cell_type": "code",
   "execution_count": 25,
   "metadata": {},
   "outputs": [
    {
     "name": "stdout",
     "output_type": "stream",
     "text": [
      "+-------+------+\n",
      "|dept_no|emp_no|\n",
      "+-------+------+\n",
      "|   d001|110022|\n",
      "|   d001|110039|\n",
      "|   d002|110085|\n",
      "|   d002|110114|\n",
      "|   d003|110183|\n",
      "|   d003|110228|\n",
      "|   d004|110303|\n",
      "|   d004|110344|\n",
      "|   d004|110386|\n",
      "|   d004|110420|\n",
      "|   d005|110511|\n",
      "|   d005|110567|\n",
      "|   d006|110725|\n",
      "|   d006|110765|\n",
      "|   d006|110800|\n",
      "|   d006|110854|\n",
      "|   d007|111035|\n",
      "|   d007|111133|\n",
      "|   d008|111400|\n",
      "|   d008|111534|\n",
      "+-------+------+\n",
      "only showing top 20 rows\n",
      "\n"
     ]
    }
   ],
   "source": [
    "Department_managers.show()"
   ]
  },
  {
   "cell_type": "code",
   "execution_count": 89,
   "metadata": {},
   "outputs": [],
   "source": [
    "data=spark.sql(\"select * from Employees1 as E inner join Department_Employees as DE on E.emp_no=DE.emp_no inner join Titles as T on E.emp_titles_id=T.title_id inner join Department_managers as DM on E.emp_no =DM.emp_no inner join Salaries as S on E.emp_no=S.emp_no inner join Departments as D on DM.dept_no =D.dept_no and DE.dept_no=D.dept_no  \")"
   ]
  },
  {
   "cell_type": "code",
   "execution_count": 27,
   "metadata": {},
   "outputs": [
    {
     "name": "stdout",
     "output_type": "stream",
     "text": [
      "root\n",
      " |-- emp_no: long (nullable = true)\n",
      " |-- emp_titles_id: string (nullable = true)\n",
      " |-- birth_date: string (nullable = true)\n",
      " |-- birth_year: integer (nullable = true)\n",
      " |-- first_name: string (nullable = true)\n",
      " |-- last_name: string (nullable = true)\n",
      " |-- sex: string (nullable = true)\n",
      " |-- hire_date: string (nullable = true)\n",
      " |-- hiring_year: integer (nullable = true)\n",
      " |-- no_of_projects: integer (nullable = true)\n",
      " |-- last_performance_rating: string (nullable = true)\n",
      " |-- left_job: integer (nullable = true)\n",
      " |-- last_date: string (nullable = true)\n",
      " |-- emp_no: long (nullable = true)\n",
      " |-- dept_no: string (nullable = true)\n",
      " |-- title_id: string (nullable = true)\n",
      " |-- title: string (nullable = true)\n",
      " |-- dept_no: string (nullable = true)\n",
      " |-- emp_no: long (nullable = true)\n",
      " |-- emp_no: long (nullable = true)\n",
      " |-- salary: long (nullable = true)\n",
      " |-- dept_no: string (nullable = true)\n",
      " |-- dept_name: string (nullable = true)\n",
      "\n"
     ]
    }
   ],
   "source": [
    "data.printSchema()"
   ]
  },
  {
   "cell_type": "code",
   "execution_count": 28,
   "metadata": {},
   "outputs": [
    {
     "data": {
      "text/plain": [
       "DataFrame[emp_no: bigint, emp_titles_id: string, birth_date: string, birth_year: int, first_name: string, last_name: string, sex: string, hire_date: string, hiring_year: int, no_of_projects: int, last_performance_rating: string, left_job: int, last_date: string, emp_no: bigint, dept_no: string, title_id: string, title: string, dept_no: string, emp_no: bigint, emp_no: bigint, salary: bigint, dept_no: string, dept_name: string]"
      ]
     },
     "execution_count": 28,
     "metadata": {},
     "output_type": "execute_result"
    }
   ],
   "source": [
    "data.cache()"
   ]
  },
  {
   "cell_type": "code",
   "execution_count": 29,
   "metadata": {},
   "outputs": [],
   "source": [
    "data.createOrReplaceTempView(\"dat\")"
   ]
  },
  {
   "cell_type": "code",
   "execution_count": 30,
   "metadata": {},
   "outputs": [
    {
     "name": "stdout",
     "output_type": "stream",
     "text": [
      "+-------+------------------+-------------+----------+-----------------+----------+---------+----+---------+------------------+-----------------+-----------------------+-------------------+---------+------------------+-------+--------+-------+-------+------------------+------------------+------------------+-------+------------------+\n",
      "|summary|            emp_no|emp_titles_id|birth_date|       birth_year|first_name|last_name| sex|hire_date|       hiring_year|   no_of_projects|last_performance_rating|           left_job|last_date|            emp_no|dept_no|title_id|  title|dept_no|            emp_no|            emp_no|            salary|dept_no|         dept_name|\n",
      "+-------+------------------+-------------+----------+-----------------+----------+---------+----+---------+------------------+-----------------+-----------------------+-------------------+---------+------------------+-------+--------+-------+-------+------------------+------------------+------------------+-------+------------------+\n",
      "|  count|                24|           24|        24|               24|        24|       24|  24|       24|                24|               24|                     24|                 24|       24|                24|     24|      24|     24|     24|                24|                24|                24|     24|                24|\n",
      "|   mean|110780.83333333333|         null|      null|          1958.25|      null|     null|null|     null|1986.5833333333333|             4.75|                   null|0.08333333333333333|     null|110780.83333333333|   null|    null|   null|   null|110780.83333333333|110780.83333333333|51531.041666666664|   null|              null|\n",
      "| stddev| 627.9587127570818|         null|      null|3.674234614174753|      null|     null|null|     null|2.1247335723857876|2.489106701994321|                   null|0.28232985128663995|     null| 627.9587127570818|   null|    null|   null|   null| 627.9587127570818| 627.9587127570818|12068.128724505383|   null|              null|\n",
      "|    min|            110022|        m0001|10/18/1962|             1952|      Arie|    Alpin|   F| 1/1/1985|              1985|                1|                      A|                  0|         |            110022|   d001|   m0001|Manager|   d001|            110022|            110022|             40000|   d001|\"Customer Service\"|\n",
      "|    max|            111939|        m0001|  9/7/1961|             1964|   Yuchang|    Zhang|   M| 8/4/1985|              1992|                9|                    PIP|                  1| 4/8/1988|            111939|   d009|   m0001|Manager|   d009|            111939|            111939|             72446|   d009|     \"development\"|\n",
      "+-------+------------------+-------------+----------+-----------------+----------+---------+----+---------+------------------+-----------------+-----------------------+-------------------+---------+------------------+-------+--------+-------+-------+------------------+------------------+------------------+-------+------------------+\n",
      "\n"
     ]
    }
   ],
   "source": [
    "data.describe().show()"
   ]
  },
  {
   "cell_type": "code",
   "execution_count": 31,
   "metadata": {},
   "outputs": [
    {
     "data": {
      "text/plain": [
       "['emp_no',\n",
       " 'emp_titles_id',\n",
       " 'birth_date',\n",
       " 'birth_year',\n",
       " 'first_name',\n",
       " 'last_name',\n",
       " 'sex',\n",
       " 'hire_date',\n",
       " 'hiring_year',\n",
       " 'no_of_projects',\n",
       " 'last_performance_rating',\n",
       " 'left_job',\n",
       " 'last_date',\n",
       " 'emp_no',\n",
       " 'dept_no',\n",
       " 'title_id',\n",
       " 'title',\n",
       " 'dept_no',\n",
       " 'emp_no',\n",
       " 'emp_no',\n",
       " 'salary',\n",
       " 'dept_no',\n",
       " 'dept_name']"
      ]
     },
     "execution_count": 31,
     "metadata": {},
     "output_type": "execute_result"
    }
   ],
   "source": [
    "data.columns"
   ]
  },
  {
   "cell_type": "code",
   "execution_count": 32,
   "metadata": {},
   "outputs": [
    {
     "name": "stdout",
     "output_type": "stream",
     "text": [
      "+------+-----------+-------+------+\n",
      "|emp_no| First_name|  title|salary|\n",
      "+------+-----------+-------+------+\n",
      "|110022|  Margareta|Manager| 71166|\n",
      "|110039|   Vishwani|Manager| 69941|\n",
      "|110085|       Ebru|Manager| 60026|\n",
      "|110114|      Isamu|Manager| 52070|\n",
      "|110183|    Shirish|Manager| 48291|\n",
      "|110228|    Karsten|Manager| 40000|\n",
      "|110303|  Krassimir|Manager| 42093|\n",
      "|110344|     Rosine|Manager| 50365|\n",
      "|110386|       Shem|Manager| 40000|\n",
      "|110420|      Oscar|Manager| 40000|\n",
      "|110511|   DeForest|Manager| 48626|\n",
      "|110567|       Leon|Manager| 40000|\n",
      "|110725|  Peternela|Manager| 61357|\n",
      "|110765|     Rutger|Manager| 40055|\n",
      "|110800|     Sanjoy|Manager| 50457|\n",
      "|110854|       Dung|Manager| 45169|\n",
      "|111035|Przemyslawa|Manager| 71612|\n",
      "|111133|      Hauke|Manager| 71148|\n",
      "|111400|       Arie|Manager| 72446|\n",
      "|111534|     Hilary|Manager| 48077|\n",
      "+------+-----------+-------+------+\n",
      "only showing top 20 rows\n",
      "\n"
     ]
    }
   ],
   "source": [
    "data.select(\"E.emp_no\",\"First_name\",\"title\",\"salary\").show()"
   ]
  },
  {
   "cell_type": "markdown",
   "metadata": {},
   "source": [
    "Exploring the data\n",
    "\n",
    "--1. A list showing employee number, last name, first name, sex, and salary for each employee1."
   ]
  },
  {
   "cell_type": "code",
   "execution_count": 33,
   "metadata": {},
   "outputs": [
    {
     "name": "stdout",
     "output_type": "stream",
     "text": [
      "+------+-----------+----------+---+------+\n",
      "|emp_no|  last_name|first_name|sex|Salary|\n",
      "+------+-----------+----------+---+------+\n",
      "| 10001|    Facello|    Georgi|  M| 60117|\n",
      "| 10002|     Simmel|   Bezalel|  F| 65828|\n",
      "| 10003|    Bamford|     Parto|  M| 40006|\n",
      "| 10004|    Koblick| Chirstian|  M| 40054|\n",
      "| 10005|   Maliniak|   Kyoichi|  M| 78228|\n",
      "| 10006|    Preusig|    Anneke|  F| 40000|\n",
      "| 10007|  Zielinski|   Tzvetan|  F| 56724|\n",
      "| 10008|   Kalloufi|    Saniya|  M| 46671|\n",
      "| 10009|       Peac|    Sumant|  F| 60929|\n",
      "| 10010|   Piveteau| Duangkaew|  F| 72488|\n",
      "| 10011|      Sluis|      Mary|  F| 42365|\n",
      "| 10012|  Bridgland|  Patricio|  M| 40000|\n",
      "| 10013|     Terkki| Eberhardt|  M| 40000|\n",
      "| 10014|      Genin|     Berni|  M| 46168|\n",
      "| 10015|  Nooteboom|  Guoxiang|  M| 40000|\n",
      "| 10016|Cappelletti|  Kazuhito|  M| 70889|\n",
      "| 10017|  Bouloucos| Cristinel|  F| 71380|\n",
      "| 10018|       Peha|  Kazuhide|  F| 55881|\n",
      "| 10019|    Haddadi|   Lillian|  M| 44276|\n",
      "| 10020|    Warwick|    Mayuko|  M| 40000|\n",
      "+------+-----------+----------+---+------+\n",
      "only showing top 20 rows\n",
      "\n"
     ]
    }
   ],
   "source": [
    "spark.sql(\"\"\"select E.emp_no,last_name,first_name,sex,S.Salary \n",
    "from Employees1 as E\n",
    "inner join Salaries as S on E.emp_no = S.emp_no \"\"\").show()"
   ]
  },
  {
   "cell_type": "markdown",
   "metadata": {},
   "source": [
    "--2.A list showing first name, last name, and hire date for employees who were hired in 1986."
   ]
  },
  {
   "cell_type": "code",
   "execution_count": 35,
   "metadata": {},
   "outputs": [
    {
     "name": "stdout",
     "output_type": "stream",
     "text": [
      "+----------+------------+----------+\n",
      "|first_name|   last_name| hire_date|\n",
      "+----------+------------+----------+\n",
      "|    Georgi|     Facello| 6/26/1986|\n",
      "|     Parto|     Bamford| 8/28/1986|\n",
      "| Chirstian|     Koblick| 12/1/1986|\n",
      "|    Sanjiv|    Zschoche|  2/4/1986|\n",
      "|      Kwee|    Schusler| 2/26/1986|\n",
      "|   Kshitij|        Gils| 3/27/1986|\n",
      "|  Zhongwei|       Rosen|10/30/1986|\n",
      "|   Xinglin|     Eugenio|  9/8/1986|\n",
      "| Sudharsan|Flasterstein| 8/12/1986|\n",
      "|    Kendra|     Hofting| 3/14/1986|\n",
      "|    Hilari|      Morton| 7/15/1986|\n",
      "|     Akemi|       Birch| 12/2/1986|\n",
      "|    Lunjin|      Giveon| 10/2/1986|\n",
      "|    Xuejia|      Ullian| 8/22/1986|\n",
      "|   Chikara|    Rissland| 1/23/1986|\n",
      "|  Domenick|    Peltason| 3/14/1986|\n",
      "|    Zissis|    Pintelas| 2/11/1986|\n",
      "|     Perry|   Shimshoni| 9/18/1986|\n",
      "|  Kazuhito| Encarnacion| 8/21/1986|\n",
      "|   Xiadong|       Perry| 11/5/1986|\n",
      "+----------+------------+----------+\n",
      "only showing top 20 rows\n",
      "\n"
     ]
    }
   ],
   "source": [
    "spark.sql(\"\"\"select first_name,last_name,hire_date\n",
    "from Employees1 \n",
    "where hiring_year==\"1986\" \"\"\").show()"
   ]
  },
  {
   "cell_type": "markdown",
   "metadata": {},
   "source": [
    "--3. A list showing the manager of each department with the following information: department number, department name, --the manager's employee number, last name, first name."
   ]
  },
  {
   "cell_type": "code",
   "execution_count": 36,
   "metadata": {},
   "outputs": [
    {
     "name": "stdout",
     "output_type": "stream",
     "text": [
      "+------+-----------+------------+-------+-------------------+\n",
      "|emp_no| First_name|   Last_name|dept_no|          dept_name|\n",
      "+------+-----------+------------+-------+-------------------+\n",
      "|110022|  Margareta|  Markovitch|   d001|        \"Marketing\"|\n",
      "|110039|   Vishwani|    Minakawa|   d001|        \"Marketing\"|\n",
      "|110085|       Ebru|       Alpin|   d002|          \"Finance\"|\n",
      "|110114|      Isamu|  Legleitner|   d002|          \"Finance\"|\n",
      "|110183|    Shirish|Ossenbruggen|   d003|  \"Human Resources\"|\n",
      "|110228|    Karsten|     Sigstam|   d003|  \"Human Resources\"|\n",
      "|110303|  Krassimir|     Wegerle|   d004|       \"Production\"|\n",
      "|110344|     Rosine|       Cools|   d004|       \"Production\"|\n",
      "|110386|       Shem|      Kieras|   d004|       \"Production\"|\n",
      "|110420|      Oscar|    Ghazalie|   d004|       \"Production\"|\n",
      "|110511|   DeForest|    Hagimont|   d005|      \"development\"|\n",
      "|110567|       Leon|    DasSarma|   d005|      \"development\"|\n",
      "|110725|  Peternela|     Onuegbe|   d006|\"Quality Management|\n",
      "|110765|     Rutger|     Hofmeyr|   d006|\"Quality Management|\n",
      "|110800|     Sanjoy|     Quadeer|   d006|\"Quality Management|\n",
      "|110854|       Dung|       Pesch|   d006|\"Quality Management|\n",
      "|111035|Przemyslawa|   Kaelbling|   d007|            \"Sales\"|\n",
      "|111133|      Hauke|       Zhang|   d007|            \"Sales\"|\n",
      "|111400|       Arie|     Staelin|   d008|         \"Research\"|\n",
      "|111534|     Hilary|      Kambil|   d008|         \"Research\"|\n",
      "+------+-----------+------------+-------+-------------------+\n",
      "only showing top 20 rows\n",
      "\n"
     ]
    }
   ],
   "source": [
    "spark.sql(\"\"\"select E.emp_no,First_name,Last_name, DM.dept_no,D.dept_name\n",
    "from Employees1 as E\n",
    "inner join department_managers as DM on E.emp_no=DM.emp_no\n",
    "inner join departments as D on DM.dept_no = D.dept_no \"\"\").show()"
   ]
  },
  {
   "cell_type": "markdown",
   "metadata": {},
   "source": [
    "-4. A list showing the department of each employee with the following information: employee number, last name, first --name, and department name."
   ]
  },
  {
   "cell_type": "code",
   "execution_count": 37,
   "metadata": {},
   "outputs": [
    {
     "name": "stdout",
     "output_type": "stream",
     "text": [
      "+------+-----------+------------+-------------------+\n",
      "|emp_no| first_name|   last_name|          dept_name|\n",
      "+------+-----------+------------+-------------------+\n",
      "|110022|  Margareta|  Markovitch|        \"Marketing\"|\n",
      "|110039|   Vishwani|    Minakawa|        \"Marketing\"|\n",
      "|110085|       Ebru|       Alpin|          \"Finance\"|\n",
      "|110114|      Isamu|  Legleitner|          \"Finance\"|\n",
      "|110183|    Shirish|Ossenbruggen|  \"Human Resources\"|\n",
      "|110228|    Karsten|     Sigstam|  \"Human Resources\"|\n",
      "|110303|  Krassimir|     Wegerle|       \"Production\"|\n",
      "|110344|     Rosine|       Cools|       \"Production\"|\n",
      "|110386|       Shem|      Kieras|       \"Production\"|\n",
      "|110420|      Oscar|    Ghazalie|       \"Production\"|\n",
      "|110511|   DeForest|    Hagimont|      \"development\"|\n",
      "|110567|       Leon|    DasSarma|      \"development\"|\n",
      "|110725|  Peternela|     Onuegbe|\"Quality Management|\n",
      "|110765|     Rutger|     Hofmeyr|\"Quality Management|\n",
      "|110800|     Sanjoy|     Quadeer|\"Quality Management|\n",
      "|110854|       Dung|       Pesch|\"Quality Management|\n",
      "|111035|Przemyslawa|   Kaelbling|            \"Sales\"|\n",
      "|111133|      Hauke|       Zhang|            \"Sales\"|\n",
      "|111400|       Arie|     Staelin|         \"Research\"|\n",
      "|111534|     Hilary|      Kambil|         \"Research\"|\n",
      "+------+-----------+------------+-------------------+\n",
      "only showing top 20 rows\n",
      "\n"
     ]
    }
   ],
   "source": [
    "spark.sql(\"\"\"select E.emp_no, first_name,last_name,D.dept_name\n",
    "from Employees1 as E\n",
    "inner join department_managers as DM on E.emp_no=DM.emp_no\n",
    "inner join departments as D on DM.dept_no = D.dept_no\"\"\").show()"
   ]
  },
  {
   "cell_type": "markdown",
   "metadata": {},
   "source": [
    "--5. A list showing first name, last name, and sex for employees whose first name is \"Hercules\" and last names begin with \"B.“"
   ]
  },
  {
   "cell_type": "code",
   "execution_count": 38,
   "metadata": {},
   "outputs": [
    {
     "name": "stdout",
     "output_type": "stream",
     "text": [
      "+----------+-------------+---+\n",
      "|first_name|    last_name|sex|\n",
      "+----------+-------------+---+\n",
      "|  Hercules|   Benzmuller|  M|\n",
      "|  Hercules|      Brendel|  F|\n",
      "|  Hercules|   Baranowski|  M|\n",
      "|  Hercules|     Barreiro|  M|\n",
      "|  Hercules|         Baer|  M|\n",
      "|  Hercules|Bernardinello|  F|\n",
      "|  Hercules|      Basagni|  M|\n",
      "|  Hercules|        Biran|  F|\n",
      "|  Hercules|    Bernatsky|  M|\n",
      "|  Hercules|         Bail|  F|\n",
      "|  Hercules|        Birge|  F|\n",
      "|  Hercules|      Bisiani|  F|\n",
      "|  Hercules|       Bodoff|  M|\n",
      "|  Hercules|        Biron|  F|\n",
      "|  Hercules|      Buchter|  M|\n",
      "|  Hercules|         Bain|  F|\n",
      "|  Hercules|         Bahr|  M|\n",
      "|  Hercules|         Baak|  M|\n",
      "|  Hercules|     Benantar|  F|\n",
      "|  Hercules|      Berstel|  F|\n",
      "+----------+-------------+---+\n",
      "\n"
     ]
    }
   ],
   "source": [
    "spark.sql(\"\"\"select first_name,last_name,sex \n",
    "from Employees1 \n",
    "where first_name like \"Hercules%\" and last_name like \"B%\" \"\"\").show()"
   ]
  },
  {
   "cell_type": "markdown",
   "metadata": {},
   "source": [
    "--6. A list showing all employees in the Marketing department, including their employee number, last name, first name, and --department name."
   ]
  },
  {
   "cell_type": "code",
   "execution_count": 41,
   "metadata": {},
   "outputs": [
    {
     "name": "stdout",
     "output_type": "stream",
     "text": [
      "+------+----------+----------+-----------+\n",
      "|emp_no|First_name| Last_name|  dept_name|\n",
      "+------+----------+----------+-----------+\n",
      "|110022| Margareta|Markovitch|\"Marketing\"|\n",
      "|110039|  Vishwani|  Minakawa|\"Marketing\"|\n",
      "+------+----------+----------+-----------+\n",
      "\n"
     ]
    }
   ],
   "source": [
    "spark.sql(\"\"\" select E.emp_no,First_name,Last_name,D.dept_name from Employees1 as E\n",
    "inner join Department_managers as DM on E.emp_no=DM.emp_no\n",
    "inner join Departments as D on DM.dept_no = D.dept_no\n",
    "where D.dept_name like \"%Marketing%\" \"\"\").show()"
   ]
  },
  {
   "cell_type": "markdown",
   "metadata": {},
   "source": [
    "--7. A list showing all employees in the Marketing and development departments, including their employee number, last name, --first name, and department name"
   ]
  },
  {
   "cell_type": "code",
   "execution_count": 40,
   "metadata": {},
   "outputs": [
    {
     "name": "stdout",
     "output_type": "stream",
     "text": [
      "+------+----------+----------+-----------+\n",
      "|emp_no|First_name| Last_name|  dept_name|\n",
      "+------+----------+----------+-----------+\n",
      "|110022| Margareta|Markovitch|\"Marketing\"|\n",
      "|110039|  Vishwani|  Minakawa|\"Marketing\"|\n",
      "+------+----------+----------+-----------+\n",
      "\n"
     ]
    }
   ],
   "source": [
    "spark.sql(\"\"\"select E.emp_no,First_name,Last_name,D.dept_name\n",
    "from Employees1 as E\n",
    "inner join Department_managers as DM on E.emp_no=DM.emp_no\n",
    "inner join Departments as D on DM.dept_no = D.dept_no\n",
    "where dept_name like \"%Mar%\" or dept_name like \"%partm%\" \"\"\").show()"
   ]
  },
  {
   "cell_type": "code",
   "execution_count": null,
   "metadata": {},
   "outputs": [],
   "source": [
    "--8. A list showing the frequency count of employee last names, in descending order. ( i.e., how many employees share each --last name"
   ]
  },
  {
   "cell_type": "code",
   "execution_count": 42,
   "metadata": {},
   "outputs": [
    {
     "name": "stdout",
     "output_type": "stream",
     "text": [
      "+-----------+----------------------+\n",
      "|  last_name|no_of_common_last_name|\n",
      "+-----------+----------------------+\n",
      "|       Baba|                   226|\n",
      "|     Gelosh|                   223|\n",
      "|      Coorg|                   223|\n",
      "|    Sudbeck|                   222|\n",
      "|     Farris|                   222|\n",
      "|     Adachi|                   221|\n",
      "|     Osgood|                   220|\n",
      "|     Neiman|                   218|\n",
      "|    Mandell|                   218|\n",
      "|     Masada|                   218|\n",
      "|Boudaillier|                   217|\n",
      "|    Wendorf|                   217|\n",
      "|   Cummings|                   216|\n",
      "|     Mahnke|                   216|\n",
      "|     Pettis|                   216|\n",
      "|    Solares|                   216|\n",
      "|     Emmart|                   215|\n",
      "|   Birjandi|                   215|\n",
      "|   Collette|                   215|\n",
      "|    Kulisch|                   215|\n",
      "+-----------+----------------------+\n",
      "only showing top 20 rows\n",
      "\n"
     ]
    }
   ],
   "source": [
    "spark.sql(\"\"\"select last_name,count(last_name) as no_of_common_last_name\n",
    "from Employees1 \n",
    "group by last_name\n",
    "order by  no_of_common_last_name desc  \"\"\").show()"
   ]
  },
  {
   "cell_type": "markdown",
   "metadata": {},
   "source": [
    "--9. Histogram to show the salary distribution among the department"
   ]
  },
  {
   "cell_type": "code",
   "execution_count": 58,
   "metadata": {},
   "outputs": [
    {
     "data": {
      "text/html": [
       "<div>\n",
       "<style scoped>\n",
       "    .dataframe tbody tr th:only-of-type {\n",
       "        vertical-align: middle;\n",
       "    }\n",
       "\n",
       "    .dataframe tbody tr th {\n",
       "        vertical-align: top;\n",
       "    }\n",
       "\n",
       "    .dataframe thead th {\n",
       "        text-align: right;\n",
       "    }\n",
       "</style>\n",
       "<table border=\"1\" class=\"dataframe\">\n",
       "  <thead>\n",
       "    <tr style=\"text-align: right;\">\n",
       "      <th></th>\n",
       "      <th>name</th>\n",
       "      <th>avg_salary</th>\n",
       "    </tr>\n",
       "  </thead>\n",
       "  <tbody>\n",
       "    <tr>\n",
       "      <th>0</th>\n",
       "      <td>\"Production\"</td>\n",
       "      <td>43115</td>\n",
       "    </tr>\n",
       "    <tr>\n",
       "      <th>1</th>\n",
       "      <td>\"development\"</td>\n",
       "      <td>44313</td>\n",
       "    </tr>\n",
       "    <tr>\n",
       "      <th>2</th>\n",
       "      <td>\"Research\"</td>\n",
       "      <td>60262</td>\n",
       "    </tr>\n",
       "    <tr>\n",
       "      <th>3</th>\n",
       "      <td>\"Sales\"</td>\n",
       "      <td>71380</td>\n",
       "    </tr>\n",
       "    <tr>\n",
       "      <th>4</th>\n",
       "      <td>\"Finance\"</td>\n",
       "      <td>56048</td>\n",
       "    </tr>\n",
       "    <tr>\n",
       "      <th>5</th>\n",
       "      <td>\"Human Resources\"</td>\n",
       "      <td>44146</td>\n",
       "    </tr>\n",
       "    <tr>\n",
       "      <th>6</th>\n",
       "      <td>\"Marketing\"</td>\n",
       "      <td>70554</td>\n",
       "    </tr>\n",
       "    <tr>\n",
       "      <th>7</th>\n",
       "      <td>\"Quality Management</td>\n",
       "      <td>49260</td>\n",
       "    </tr>\n",
       "    <tr>\n",
       "      <th>8</th>\n",
       "      <td>\"Customer Service\"</td>\n",
       "      <td>43462</td>\n",
       "    </tr>\n",
       "  </tbody>\n",
       "</table>\n",
       "</div>"
      ],
      "text/plain": [
       "                  name  avg_salary\n",
       "0         \"Production\"       43115\n",
       "1        \"development\"       44313\n",
       "2           \"Research\"       60262\n",
       "3              \"Sales\"       71380\n",
       "4            \"Finance\"       56048\n",
       "5    \"Human Resources\"       44146\n",
       "6          \"Marketing\"       70554\n",
       "7  \"Quality Management       49260\n",
       "8   \"Customer Service\"       43462"
      ]
     },
     "execution_count": 58,
     "metadata": {},
     "output_type": "execute_result"
    }
   ],
   "source": [
    "from pyspark.sql.functions import avg\n",
    "a=spark.sql(\"select Dept_name as name ,ceiling(avg(salary)) as avg_salary from dat group by Dept_name\")\n",
    "b=a.toPandas()\n",
    "b"
   ]
  },
  {
   "cell_type": "code",
   "execution_count": 63,
   "metadata": {},
   "outputs": [
    {
     "data": {
      "text/plain": [
       "<matplotlib.axes._subplots.AxesSubplot at 0x7fbb31a07650>"
      ]
     },
     "execution_count": 63,
     "metadata": {},
     "output_type": "execute_result"
    },
    {
     "data": {
      "image/png": "[encoded data removed]",
      "text/plain": [
       "<Figure size 720x576 with 1 Axes>"
      ]
     },
     "metadata": {},
     "output_type": "display_data"
    }
   ],
   "source": [
    "import seaborn as sn\n",
    "sn.set(rc={\"figure.figsize\": (10,8)})\n",
    "sn.barplot( data = b, x='name',y='avg_salary')"
   ]
  },
  {
   "cell_type": "markdown",
   "metadata": {},
   "source": [
    "--10. Bar graph to show the Average salary per title (designation)"
   ]
  },
  {
   "cell_type": "code",
   "execution_count": 68,
   "metadata": {},
   "outputs": [
    {
     "data": {
      "text/plain": [
       "<matplotlib.axes._subplots.AxesSubplot at 0x7fbb317a5f50>"
      ]
     },
     "execution_count": 68,
     "metadata": {},
     "output_type": "execute_result"
    },
    {
     "data": {
      "image/png": "[encoded data removed]",
      "text/plain": [
       "<Figure size 720x576 with 1 Axes>"
      ]
     },
     "metadata": {},
     "output_type": "display_data"
    }
   ],
   "source": [
    "a=spark.sql(\"\"\"select title, round(avg(Salary),2) as avg_salary\n",
    "from Employees1 as E \n",
    "inner join Titles as T on E.emp_titles_id=T.title_id\n",
    "inner join Salaries as S on E.emp_no =S.emp_no\n",
    "group by title \"\"\")\n",
    "b=a.toPandas()\n",
    "import seaborn as sn\n",
    "sn.set(rc={\"figure.figsize\": (10,8)})\n",
    "sn.barplot( data = b, x='title',y='avg_salary')"
   ]
  },
  {
   "cell_type": "markdown",
   "metadata": {},
   "source": [
    "--11. Calculate employee tenure & show the tenure distribution among the employees"
   ]
  },
  {
   "cell_type": "code",
   "execution_count": 46,
   "metadata": {},
   "outputs": [
    {
     "name": "stdout",
     "output_type": "stream",
     "text": [
      "+------+----------+-----------+-----------+---------+---------------+\n",
      "|emp_no|First_name|  Last_name|hiring_year|last_year|tenure_in_years|\n",
      "+------+----------+-----------+-----------+---------+---------------+\n",
      "| 10001|    Georgi|    Facello|       1986|     1994|              8|\n",
      "| 10002|   Bezalel|     Simmel|       1985|        0|              0|\n",
      "| 10003|     Parto|    Bamford|       1986|        0|              0|\n",
      "| 10004| Chirstian|    Koblick|       1986|        0|              0|\n",
      "| 10005|   Kyoichi|   Maliniak|       1989|        0|              0|\n",
      "| 10006|    Anneke|    Preusig|       1989|        0|              0|\n",
      "| 10007|   Tzvetan|  Zielinski|       1989|     2002|             13|\n",
      "| 10008|    Saniya|   Kalloufi|       1994|        0|              0|\n",
      "| 10009|    Sumant|       Peac|       1985|        0|              0|\n",
      "| 10010| Duangkaew|   Piveteau|       1989|        0|              0|\n",
      "| 10011|      Mary|      Sluis|       1990|        0|              0|\n",
      "| 10012|  Patricio|  Bridgland|       1992|        0|              0|\n",
      "| 10013| Eberhardt|     Terkki|       1985|        0|              0|\n",
      "| 10014|     Berni|      Genin|       1987|        0|              0|\n",
      "| 10015|  Guoxiang|  Nooteboom|       1987|        0|              0|\n",
      "| 10016|  Kazuhito|Cappelletti|       1995|        0|              0|\n",
      "| 10017| Cristinel|  Bouloucos|       1993|        0|              0|\n",
      "| 10018|  Kazuhide|       Peha|       1987|        0|              0|\n",
      "| 10019|   Lillian|    Haddadi|       1999|        0|              0|\n",
      "| 10020|    Mayuko|    Warwick|       1991|        0|              0|\n",
      "+------+----------+-----------+-----------+---------+---------------+\n",
      "only showing top 20 rows\n",
      "\n"
     ]
    }
   ],
   "source": [
    "spark.sql(\"\"\"select emp_no,First_name,Last_name,cast(regexp_extract(hire_date, \". *. *. *. *$\",0) as int) as hiring_year  ,(case when left_job =\"0\" then 0 else cast(regexp_extract(last_date, \". *. *. *. *$\",0) as int) end) as last_year\n",
    ",((case when left_job =\"0\" then cast(regexp_extract(hire_date, \". *. *. *. *$\",0) as int) else cast(regexp_extract(last_date, \". *. *. *. *$\",0) as int) end)-cast(regexp_extract(hire_date, \". *. *. *. *$\",0) as int)) as tenure_in_years\n",
    "from Employees \"\"\").show()"
   ]
  },
  {
   "cell_type": "markdown",
   "metadata": {},
   "source": [
    "--12. a list of employees who requires PIP"
   ]
  },
  {
   "cell_type": "code",
   "execution_count": 47,
   "metadata": {},
   "outputs": [
    {
     "name": "stdout",
     "output_type": "stream",
     "text": [
      "+------+----------+---------+-----------------------+\n",
      "|emp_no|First_name|Last_name|Last_performance_rating|\n",
      "+------+----------+---------+-----------------------+\n",
      "| 10026|  Yongqiao| Berztiss|                    PIP|\n",
      "| 10066|      Kwee| Schusler|                    PIP|\n",
      "| 10074|   Mokhtar|Bernatsky|                    PIP|\n",
      "| 10114|     Munir|  Demeyer|                    PIP|\n",
      "| 10141|    Shahaf|Ishibashi|                    PIP|\n",
      "| 10155|      Adas|Nastansky|                    PIP|\n",
      "| 10167| Duangkaew|  Rassart|                    PIP|\n",
      "| 10173| Shrikanth|   Mahmud|                    PIP|\n",
      "| 10177|  Pragnesh|   Iisaka|                    PIP|\n",
      "| 10182| Moriyoshi|    Merey|                    PIP|\n",
      "| 10187|   Tommaso| Narwekar|                    PIP|\n",
      "| 10208|    Xiping|   Klerer|                    PIP|\n",
      "| 10260|     Alper|    Suomi|                    PIP|\n",
      "| 10276|    Xuejun|Hempstead|                    PIP|\n",
      "| 10279|    Barton| Jumpertz|                    PIP|\n",
      "| 10290|   Yongmao| Pleszkun|                    PIP|\n",
      "| 10326|    Masali|     Czap|                    PIP|\n",
      "| 10327|     Roded|  Facello|                    PIP|\n",
      "| 10363|   Toshiki|    Muniz|                    PIP|\n",
      "| 10367| Hyuckchul|     Gini|                    PIP|\n",
      "+------+----------+---------+-----------------------+\n",
      "only showing top 20 rows\n",
      "\n"
     ]
    }
   ],
   "source": [
    "spark.sql(\"\"\"select emp_no , First_name,Last_name,Last_performance_rating\n",
    "from Employees \n",
    "where Last_performance_rating = \"PIP\" \"\"\").show()"
   ]
  },
  {
   "cell_type": "markdown",
   "metadata": {},
   "source": [
    "--13. trend of leaving job by year"
   ]
  },
  {
   "cell_type": "code",
   "execution_count": 48,
   "metadata": {},
   "outputs": [
    {
     "name": "stdout",
     "output_type": "stream",
     "text": [
      "+---------+-------------------+\n",
      "|last_year|no_of_employee_left|\n",
      "+---------+-------------------+\n",
      "|     1990|               1131|\n",
      "|     2003|               1133|\n",
      "|     2007|                403|\n",
      "|     2006|                552|\n",
      "|     2013|                  1|\n",
      "|     1988|                605|\n",
      "|     1997|               2326|\n",
      "|     1994|               1870|\n",
      "|     2004|                921|\n",
      "|     1991|               1375|\n",
      "|     1996|               2220|\n",
      "|     1989|                916|\n",
      "|     1998|               2368|\n",
      "|     2012|                 17|\n",
      "|     1987|                305|\n",
      "|     2009|                202|\n",
      "|     1995|               2085|\n",
      "|     2001|               1593|\n",
      "|     1992|               1494|\n",
      "|     2005|                738|\n",
      "+---------+-------------------+\n",
      "only showing top 20 rows\n",
      "\n"
     ]
    }
   ],
   "source": [
    "spark.sql(\"\"\"select (case when left_job =\"0\" then 0 else cast(regexp_extract(last_date, \". *. *. *. *$\",0) as int) end) as last_year, count(emp_no) as no_of_employee_left\n",
    "from Employees\n",
    "group by (case when left_job =\"0\" then 0 else cast(regexp_extract(last_date, \". *. *. *. *$\",0) as int) end) \"\"\").show()"
   ]
  },
  {
   "cell_type": "markdown",
   "metadata": {},
   "source": [
    "--14. trend of salary and year of experience /// considering the analysis is done on the max date which is 2013 in this data so i'm calculate on that"
   ]
  },
  {
   "cell_type": "code",
   "execution_count": 49,
   "metadata": {},
   "outputs": [
    {
     "name": "stdout",
     "output_type": "stream",
     "text": [
      "+------------------+--------------+\n",
      "|year_of_experience|Average_salary|\n",
      "+------------------+--------------+\n",
      "|                28|      53010.03|\n",
      "|                27|      53032.65|\n",
      "|                26|      52971.03|\n",
      "|                22|      52876.87|\n",
      "|                13|      52292.92|\n",
      "|                16|      52888.21|\n",
      "|                20|      53152.14|\n",
      "|                19|      52994.96|\n",
      "|                15|      53098.49|\n",
      "|                17|      52934.81|\n",
      "|                23|      52972.32|\n",
      "|                25|      52834.38|\n",
      "|                24|      53050.46|\n",
      "|                21|      52902.19|\n",
      "|                14|      53098.26|\n",
      "|                18|      52843.51|\n",
      "+------------------+--------------+\n",
      "\n"
     ]
    }
   ],
   "source": [
    "spark.sql(\"\"\"select (2013-cast(regexp_extract(hire_date, \". *. *. *. *$\",0) as int)) as year_of_experience , round(avg(salary),2) as Average_salary \n",
    "from Employees as E\n",
    "inner join Salaries as S on E.emp_no =S.emp_no \n",
    "group by (2013-cast(regexp_extract(hire_date, \". *. *. *. *$\",0) as int))  \"\"\").show()"
   ]
  },
  {
   "cell_type": "markdown",
   "metadata": {},
   "source": [
    "--15. Managers employees per department"
   ]
  },
  {
   "cell_type": "code",
   "execution_count": 53,
   "metadata": {},
   "outputs": [
    {
     "name": "stdout",
     "output_type": "stream",
     "text": [
      "+-------------------+-------------+\n",
      "|          dept_name|count(emp_no)|\n",
      "+-------------------+-------------+\n",
      "|       \"Production\"|            4|\n",
      "|      \"development\"|            2|\n",
      "|         \"Research\"|            2|\n",
      "|            \"Sales\"|            2|\n",
      "|          \"Finance\"|            2|\n",
      "|  \"Human Resources\"|            2|\n",
      "|        \"Marketing\"|            2|\n",
      "|\"Quality Management|            4|\n",
      "| \"Customer Service\"|            4|\n",
      "+-------------------+-------------+\n",
      "\n"
     ]
    }
   ],
   "source": [
    "spark.sql(\"\"\"select dept_name,count(E.emp_no) \n",
    "from Employees as E\n",
    "inner join department_managers as DM on E.emp_no =DM.emp_no\n",
    "inner join departments as D on DM.dept_no =D.dept_no \n",
    "group by dept_name \"\"\").show()"
   ]
  },
  {
   "cell_type": "code",
   "execution_count": null,
   "metadata": {},
   "outputs": [],
   "source": [
    "--15. employees per department"
   ]
  },
  {
   "cell_type": "code",
   "execution_count": 55,
   "metadata": {},
   "outputs": [
    {
     "name": "stdout",
     "output_type": "stream",
     "text": [
      "+-------------------+-------------+\n",
      "|          dept_name|count(emp_no)|\n",
      "+-------------------+-------------+\n",
      "|       \"Production\"|        73485|\n",
      "|      \"development\"|        85707|\n",
      "|         \"Research\"|        21126|\n",
      "|            \"Sales\"|        52245|\n",
      "|          \"Finance\"|        17346|\n",
      "|  \"Human Resources\"|        17786|\n",
      "|        \"Marketing\"|        20211|\n",
      "|\"Quality Management|        20117|\n",
      "| \"Customer Service\"|        23580|\n",
      "+-------------------+-------------+\n",
      "\n"
     ]
    }
   ],
   "source": [
    "spark.sql(\"\"\"select dept_name,count(E.emp_no) \n",
    "from Employees as E\n",
    "inner join department_Employees as DE on E.emp_no =DE.emp_no\n",
    "inner join departments as D on DE.dept_no =D.dept_no \n",
    "group by dept_name \"\"\").show()"
   ]
  },
  {
   "cell_type": "markdown",
   "metadata": {},
   "source": [
    "--16. Company gender ratio"
   ]
  },
  {
   "cell_type": "code",
   "execution_count": 56,
   "metadata": {},
   "outputs": [
    {
     "name": "stdout",
     "output_type": "stream",
     "text": [
      "+---+----------+\n",
      "|sex|count(sex)|\n",
      "+---+----------+\n",
      "|  F|    120051|\n",
      "|  M|    179973|\n",
      "+---+----------+\n",
      "\n"
     ]
    }
   ],
   "source": [
    "spark.sql(\"\"\"select sex, count(sex) from Employees group by sex \"\"\").show()"
   ]
  },
  {
   "cell_type": "markdown",
   "metadata": {},
   "source": [
    "--17. no of employees currently"
   ]
  },
  {
   "cell_type": "code",
   "execution_count": 57,
   "metadata": {},
   "outputs": [
    {
     "name": "stdout",
     "output_type": "stream",
     "text": [
      "+-------------+\n",
      "|count(emp_no)|\n",
      "+-------------+\n",
      "|       270157|\n",
      "+-------------+\n",
      "\n"
     ]
    }
   ],
   "source": [
    "spark.sql(\"\"\"select count(emp_no) from Employees where left_job =0\"\"\").show()"
   ]
  },
  {
   "cell_type": "markdown",
   "metadata": {},
   "source": [
    "# Target variable is left job \n"
   ]
  },
  {
   "cell_type": "code",
   "execution_count": 88,
   "metadata": {},
   "outputs": [
    {
     "name": "stdout",
     "output_type": "stream",
     "text": [
      "root\n",
      " |-- emp_no: long (nullable = true)\n",
      " |-- emp_titles_id: string (nullable = true)\n",
      " |-- birth_date: string (nullable = true)\n",
      " |-- birth_year: integer (nullable = true)\n",
      " |-- first_name: string (nullable = true)\n",
      " |-- last_name: string (nullable = true)\n",
      " |-- sex: string (nullable = true)\n",
      " |-- hire_date: string (nullable = true)\n",
      " |-- hiring_year: integer (nullable = true)\n",
      " |-- no_of_projects: integer (nullable = true)\n",
      " |-- last_performance_rating: string (nullable = true)\n",
      " |-- left_job: integer (nullable = true)\n",
      " |-- last_date: string (nullable = true)\n",
      " |-- emp_no: long (nullable = true)\n",
      " |-- dept_no: string (nullable = true)\n",
      " |-- title_id: string (nullable = true)\n",
      " |-- title: string (nullable = true)\n",
      " |-- dept_no: string (nullable = true)\n",
      " |-- emp_no: long (nullable = true)\n",
      " |-- emp_no: long (nullable = true)\n",
      " |-- salary: long (nullable = true)\n",
      " |-- dept_no: string (nullable = true)\n",
      " |-- dept_name: string (nullable = true)\n",
      "\n"
     ]
    }
   ],
   "source": [
    "spark.sql(\"\"\"select sex ,\"\"\")"
   ]
  },
  {
   "cell_type": "code",
   "execution_count": 74,
   "metadata": {},
   "outputs": [
    {
     "data": {
      "text/plain": [
       "DataFrame[emp_no: bigint, emp_titles_id: string, birth_date: string, birth_year: int, first_name: string, last_name: string, sex: string, hire_date: string, hiring_year: int, no_of_projects: int, last_performance_rating: string, left_job: int, last_date: string, emp_no: bigint, dept_no: string, title_id: string, title: string, dept_no: string, emp_no: bigint, emp_no: bigint, salary: bigint, dept_no: string, dept_name: string]"
      ]
     },
     "execution_count": 74,
     "metadata": {},
     "output_type": "execute_result"
    }
   ],
   "source": [
    "data.dropDuplicates()"
   ]
  },
  {
   "cell_type": "code",
   "execution_count": 86,
   "metadata": {},
   "outputs": [
    {
     "name": "stdout",
     "output_type": "stream",
     "text": [
      "root\n",
      " |-- emp_no: long (nullable = true)\n",
      " |-- emp_titles_id: string (nullable = true)\n",
      " |-- birth_date: string (nullable = true)\n",
      " |-- birth_year: integer (nullable = true)\n",
      " |-- first_name: string (nullable = true)\n",
      " |-- last_name: string (nullable = true)\n",
      " |-- sex: string (nullable = true)\n",
      " |-- hire_date: string (nullable = true)\n",
      " |-- hiring_year: integer (nullable = true)\n",
      " |-- no_of_projects: integer (nullable = true)\n",
      " |-- last_performance_rating: string (nullable = true)\n",
      " |-- left_job: integer (nullable = true)\n",
      " |-- last_date: string (nullable = true)\n",
      " |-- emp_no: long (nullable = true)\n",
      " |-- dept_no: string (nullable = true)\n",
      " |-- title_id: string (nullable = true)\n",
      " |-- title: string (nullable = true)\n",
      " |-- dept_no: string (nullable = true)\n",
      " |-- emp_no: long (nullable = true)\n",
      " |-- emp_no: long (nullable = true)\n",
      " |-- salary: long (nullable = true)\n",
      " |-- dept_no: string (nullable = true)\n",
      " |-- dept_name: string (nullable = true)\n",
      "\n"
     ]
    }
   ],
   "source": [
    "data.printSchema()"
   ]
  },
  {
   "cell_type": "code",
   "execution_count": 90,
   "metadata": {},
   "outputs": [],
   "source": [
    "x=data.toPandas().corr()"
   ]
  },
  {
   "cell_type": "code",
   "execution_count": 91,
   "metadata": {},
   "outputs": [
    {
     "data": {
      "text/plain": [
       "<matplotlib.axes._subplots.AxesSubplot at 0x7fbb2d71bb50>"
      ]
     },
     "execution_count": 91,
     "metadata": {},
     "output_type": "execute_result"
    },
    {
     "data": {
      "image/png": "[encoded data removed]",
      "text/plain": [
       "<Figure size 720x576 with 2 Axes>"
      ]
     },
     "metadata": {},
     "output_type": "display_data"
    }
   ],
   "source": [
    "sn.heatmap(x)"
   ]
  },
  {
   "cell_type": "code",
   "execution_count": 217,
   "metadata": {},
   "outputs": [
    {
     "data": {
      "text/plain": [
       "24"
      ]
     },
     "execution_count": 217,
     "metadata": {},
     "output_type": "execute_result"
    }
   ],
   "source": [
    "data_df.count()"
   ]
  },
  {
   "cell_type": "code",
   "execution_count": null,
   "metadata": {},
   "outputs": [],
   "source": [
    " select sex, (2013-cast(regexp_extract(hire_date, \". *. *. *. *$\",0) as int)) as year_of_experience \n",
    "           , no_of_projects,\n",
    "           (case \n",
    "           when last_performance_rating =='A' then 5\n",
    "           when last_performance_rating  =='B' then 4\n",
    "           when last_performance_rating=='C' then 3.5\n",
    "           when last_performance_rating =='S' then 3\n",
    "           else 1 end)  as performance,salary, left_job \n",
    "            from Employees as \n",
    "             E inner join Salaries as S on E.emp_no=S.emp_no"
   ]
  },
  {
   "cell_type": "code",
   "execution_count": 383,
   "metadata": {},
   "outputs": [],
   "source": [
    "data_df=spark.sql(\"\"\"select sex, (2013-cast(regexp_extract(hire_date, \". *. *. *. *$\",0) as int)) as year_of_experience \n",
    "           , no_of_projects,\n",
    "           (case \n",
    "           when last_performance_rating =='S' then 5\n",
    "           when last_performance_rating  =='A' then 4\n",
    "           when last_performance_rating=='B' then 3\n",
    "           when last_performance_rating =='C' then 2\n",
    "           else 1 end) as performance,salary, left_job from Employees as  E inner join Salaries as S on E.emp_no=S.emp_no\"\"\")"
   ]
  },
  {
   "cell_type": "code",
   "execution_count": 384,
   "metadata": {},
   "outputs": [],
   "source": [
    "data_df1 =data_df  #copy"
   ]
  },
  {
   "cell_type": "code",
   "execution_count": 386,
   "metadata": {},
   "outputs": [],
   "source": [
    "df2 =data_df1 #testing something "
   ]
  },
  {
   "cell_type": "code",
   "execution_count": 403,
   "metadata": {},
   "outputs": [],
   "source": [
    "df3 =data_df1"
   ]
  },
  {
   "cell_type": "markdown",
   "metadata": {},
   "source": [
    "here target variable will left_job \n",
    "so these are variables that are chosen X as Looking at the data of only those who left tell an interesting story"
   ]
  },
  {
   "cell_type": "code",
   "execution_count": 307,
   "metadata": {},
   "outputs": [],
   "source": [
    "from pyspark.ml import Pipeline\n",
    "from pyspark.ml.classification import RandomForestClassifier\n",
    "from pyspark.ml.feature import *\n",
    "from pyspark.ml.evaluation import MulticlassClassificationEvaluator, BinaryClassificationEvaluator\n",
    "\n",
    "from sklearn.metrics import confusion_matrix\n",
    "from sklearn.metrics import precision_score\n",
    "from sklearn.metrics import recall_score"
   ]
  },
  {
   "cell_type": "markdown",
   "metadata": {},
   "source": [
    "PREPROCESSING DATA\n",
    "We are combining features into one single vector and renaming 'Left_job' to 'label'"
   ]
  },
  {
   "cell_type": "code",
   "execution_count": 308,
   "metadata": {},
   "outputs": [
    {
     "name": "stdout",
     "output_type": "stream",
     "text": [
      "root\n",
      " |-- sex: string (nullable = true)\n",
      " |-- year_of_experience: integer (nullable = true)\n",
      " |-- no_of_projects: integer (nullable = true)\n",
      " |-- performance: decimal(11,1) (nullable = false)\n",
      " |-- salary: long (nullable = true)\n",
      " |-- left_job: integer (nullable = true)\n",
      "\n"
     ]
    }
   ],
   "source": [
    "data_df1.printSchema()"
   ]
  },
  {
   "cell_type": "code",
   "execution_count": 309,
   "metadata": {},
   "outputs": [],
   "source": [
    "df=data_df1"
   ]
  },
  {
   "cell_type": "code",
   "execution_count": 370,
   "metadata": {},
   "outputs": [],
   "source": [
    "df2=data_df1"
   ]
  },
  {
   "cell_type": "code",
   "execution_count": 310,
   "metadata": {},
   "outputs": [
    {
     "name": "stdout",
     "output_type": "stream",
     "text": [
      "root\n",
      " |-- sex: string (nullable = true)\n",
      " |-- year_of_experience: integer (nullable = true)\n",
      " |-- no_of_projects: integer (nullable = true)\n",
      " |-- performance: decimal(11,1) (nullable = false)\n",
      " |-- salary: long (nullable = true)\n",
      " |-- left_job: integer (nullable = true)\n",
      "\n"
     ]
    }
   ],
   "source": [
    "df.printSchema()"
   ]
  },
  {
   "cell_type": "code",
   "execution_count": 414,
   "metadata": {},
   "outputs": [],
   "source": [
    "df4 =data_df1"
   ]
  },
  {
   "cell_type": "code",
   "execution_count": null,
   "metadata": {},
   "outputs": [],
   "source": []
  },
  {
   "cell_type": "code",
   "execution_count": 265,
   "metadata": {},
   "outputs": [
    {
     "data": {
      "text/plain": [
       "300024"
      ]
     },
     "execution_count": 265,
     "metadata": {},
     "output_type": "execute_result"
    }
   ],
   "source": [
    "df.count()"
   ]
  },
  {
   "cell_type": "markdown",
   "metadata": {},
   "source": [
    "Training Model\n",
    "We are creating a train function to reduce code repeating"
   ]
  },
  {
   "cell_type": "code",
   "execution_count": 425,
   "metadata": {},
   "outputs": [],
   "source": [
    "from pyspark.ml.feature import OneHotEncoderEstimator, StringIndexer, VectorAssembler\n",
    "\n",
    "categoricalColumns = ['sex']\n",
    "stages = []\n",
    "\n",
    "for categoricalCol in categoricalColumns:\n",
    "    stringIndexer = StringIndexer(inputCol = categoricalCol, outputCol = categoricalCol + 'Index')\n",
    "    encoder = OneHotEncoderEstimator(inputCols=[stringIndexer.getOutputCol()], outputCols=[categoricalCol + \"classVec\"])\n",
    "    stages += [stringIndexer, encoder]\n",
    "\n",
    "label_stringIdx = StringIndexer(inputCol = 'left_job', outputCol = 'label')\n",
    "stages += [label_stringIdx]\n",
    "\n",
    "numericCols = ['salary','year_of_experience','no_of_projects','performance']\n",
    "assemblerInputs = [c + \"classVec\" for c in categoricalColumns] + numericCols\n",
    "assembler = VectorAssembler(inputCols=assemblerInputs, outputCol=\"features\")\n",
    "stages += [assembler]\n",
    "rf = RandomForestClassifier(featuresCol = 'features', labelCol = 'label', numTrees=10)\n",
    "stages +=[rf]\n"
   ]
  },
  {
   "cell_type": "code",
   "execution_count": 443,
   "metadata": {},
   "outputs": [],
   "source": [
    "#stages"
   ]
  },
  {
   "cell_type": "code",
   "execution_count": null,
   "metadata": {},
   "outputs": [],
   "source": [
    "from pyspark.ml import Pipeline\n",
    "pipeline = Pipeline(stages = stages)"
   ]
  },
  {
   "cell_type": "code",
   "execution_count": null,
   "metadata": {},
   "outputs": [],
   "source": [
    "train, test = df4.randomSplit([0.7, 0.3], seed = 2018)\n",
    "print(\"Training Dataset Count: \" + str(train.count()))\n",
    "print(\"Test Dataset Count: \" + str(test.count()))"
   ]
  },
  {
   "cell_type": "markdown",
   "metadata": {},
   "source": [
    "Tunning the RandomForest for Best accuracy"
   ]
  },
  {
   "cell_type": "code",
   "execution_count": 432,
   "metadata": {},
   "outputs": [],
   "source": [
    "paramGrid = ParamGridBuilder().addGrid(rf.numTrees, [10, 30]).build()\n",
    "\n",
    "crossval = CrossValidator(estimator=pipeline,estimatorParamMaps=paramGrid,evaluator=BinaryClassificationEvaluator(),numFolds=2) \n",
    "\n",
    "pred_train = crossval.fit(train).transform(train)\n",
    "pred_test = crossval.fit(test).transform(test)"
   ]
  },
  {
   "cell_type": "code",
   "execution_count": 436,
   "metadata": {},
   "outputs": [
    {
     "name": "stdout",
     "output_type": "stream",
     "text": [
      "+---+------------------+--------------+-----------+------+--------+--------+-----------+-----+--------------------+--------------------+--------------------+----------+\n",
      "|sex|year_of_experience|no_of_projects|performance|salary|left_job|sexIndex|sexclassVec|label|            features|       rawPrediction|         probability|prediction|\n",
      "+---+------------------+--------------+-----------+------+--------+--------+-----------+-----+--------------------+--------------------+--------------------+----------+\n",
      "|  F|                13|             1|          3| 59167|       0|     1.0|  (1,[],[])|  0.0|[0.0,59167.0,13.0...|[8.35658269272282...|[0.83565826927228...|       0.0|\n",
      "|  F|                13|             2|          3| 75663|       0|     1.0|  (1,[],[])|  0.0|[0.0,75663.0,13.0...|[9.03733891206877...|[0.90373389120687...|       0.0|\n",
      "|  F|                13|             3|          4| 65611|       1|     1.0|  (1,[],[])|  1.0|[0.0,65611.0,13.0...|[9.03733891206877...|[0.90373389120687...|       0.0|\n",
      "|  F|                13|             7|          3| 40000|       0|     1.0|  (1,[],[])|  0.0|[0.0,40000.0,13.0...|[9.07929509258735...|[0.90792950925873...|       0.0|\n",
      "|  F|                13|            10|          3| 50276|       0|     1.0|  (1,[],[])|  0.0|[0.0,50276.0,13.0...|[9.03733891206877...|[0.90373389120687...|       0.0|\n",
      "|  F|                14|             1|          1| 74564|       0|     1.0|  (1,[],[])|  0.0|[0.0,74564.0,14.0...|[8.91836603006545...|[0.89183660300654...|       0.0|\n",
      "|  F|                14|             1|          1| 77655|       0|     1.0|  (1,[],[])|  0.0|[0.0,77655.0,14.0...|[8.91836603006545...|[0.89183660300654...|       0.0|\n",
      "|  F|                14|             1|          2| 40000|       0|     1.0|  (1,[],[])|  0.0|[0.0,40000.0,14.0...|[9.07554510322055...|[0.90755451032205...|       0.0|\n",
      "|  F|                14|             1|          2| 40000|       0|     1.0|  (1,[],[])|  0.0|[0.0,40000.0,14.0...|[9.07554510322055...|[0.90755451032205...|       0.0|\n",
      "|  F|                14|             1|          2| 40000|       0|     1.0|  (1,[],[])|  0.0|[0.0,40000.0,14.0...|[9.07554510322055...|[0.90755451032205...|       0.0|\n",
      "|  F|                14|             1|          2| 40000|       1|     1.0|  (1,[],[])|  1.0|[0.0,40000.0,14.0...|[9.07554510322055...|[0.90755451032205...|       0.0|\n",
      "|  F|                14|             1|          2| 46118|       1|     1.0|  (1,[],[])|  1.0|[0.0,46118.0,14.0...|[8.45591442712137...|[0.84559144271213...|       0.0|\n",
      "|  F|                14|             1|          2| 50057|       1|     1.0|  (1,[],[])|  1.0|[0.0,50057.0,14.0...|[8.45591442712137...|[0.84559144271213...|       0.0|\n",
      "|  F|                14|             1|          2| 51550|       1|     1.0|  (1,[],[])|  1.0|[0.0,51550.0,14.0...|[8.92650266241548...|[0.89265026624154...|       0.0|\n",
      "|  F|                14|             1|          2| 52172|       0|     1.0|  (1,[],[])|  0.0|[0.0,52172.0,14.0...|[8.92650266241548...|[0.89265026624154...|       0.0|\n",
      "|  F|                14|             1|          2| 54353|       0|     1.0|  (1,[],[])|  0.0|[0.0,54353.0,14.0...|[8.92650266241548...|[0.89265026624154...|       0.0|\n",
      "|  F|                14|             1|          2| 69065|       0|     1.0|  (1,[],[])|  0.0|[0.0,69065.0,14.0...|[8.91836603006545...|[0.89183660300654...|       0.0|\n",
      "|  F|                14|             1|          2| 70328|       0|     1.0|  (1,[],[])|  0.0|[0.0,70328.0,14.0...|[8.91836603006545...|[0.89183660300654...|       0.0|\n",
      "|  F|                14|             1|          3| 40000|       0|     1.0|  (1,[],[])|  0.0|[0.0,40000.0,14.0...|[9.07554510322055...|[0.90755451032205...|       0.0|\n",
      "|  F|                14|             1|          3| 40000|       0|     1.0|  (1,[],[])|  0.0|[0.0,40000.0,14.0...|[9.07554510322055...|[0.90755451032205...|       0.0|\n",
      "+---+------------------+--------------+-----------+------+--------+--------+-----------+-----+--------------------+--------------------+--------------------+----------+\n",
      "only showing top 20 rows\n",
      "\n"
     ]
    }
   ],
   "source": [
    "a=cvModel.transform(train) # a is Train_df"
   ]
  },
  {
   "cell_type": "code",
   "execution_count": 437,
   "metadata": {},
   "outputs": [],
   "source": [
    "b=crossval.fit(test).transform(test)"
   ]
  },
  {
   "cell_type": "code",
   "execution_count": 438,
   "metadata": {},
   "outputs": [
    {
     "name": "stdout",
     "output_type": "stream",
     "text": [
      "+---+------------------+--------------+-----------+------+--------+--------+-----------+-----+--------------------+--------------------+--------------------+----------+\n",
      "|sex|year_of_experience|no_of_projects|performance|salary|left_job|sexIndex|sexclassVec|label|            features|       rawPrediction|         probability|prediction|\n",
      "+---+------------------+--------------+-----------+------+--------+--------+-----------+-----+--------------------+--------------------+--------------------+----------+\n",
      "|  F|                13|             4|          4| 48413|       0|     1.0|  (1,[],[])|  0.0|[0.0,48413.0,13.0...|[26.7437359816782...|[0.89145786605594...|       0.0|\n",
      "|  F|                13|             5|          3| 40000|       0|     1.0|  (1,[],[])|  0.0|[0.0,40000.0,13.0...|[27.0521905193621...|[0.90173968397873...|       0.0|\n",
      "|  F|                14|             1|          2| 40000|       1|     1.0|  (1,[],[])|  1.0|[0.0,40000.0,14.0...|[26.2488258366331...|[0.87496086122110...|       0.0|\n",
      "|  F|                14|             1|          2| 55974|       0|     1.0|  (1,[],[])|  0.0|[0.0,55974.0,14.0...|[26.4334948838668...|[0.88111649612889...|       0.0|\n",
      "|  F|                14|             1|          3| 40000|       0|     1.0|  (1,[],[])|  0.0|[0.0,40000.0,14.0...|[26.5792398534015...|[0.88597466178005...|       0.0|\n",
      "|  F|                14|             1|          3| 41196|       0|     1.0|  (1,[],[])|  0.0|[0.0,41196.0,14.0...|[26.6645220725003...|[0.88881740241667...|       0.0|\n",
      "|  F|                14|             1|          3| 51873|       0|     1.0|  (1,[],[])|  0.0|[0.0,51873.0,14.0...|[26.6011382428403...|[0.88670460809467...|       0.0|\n",
      "|  F|                14|             1|          3| 54927|       0|     1.0|  (1,[],[])|  0.0|[0.0,54927.0,14.0...|[26.6696184792881...|[0.88898728264293...|       0.0|\n",
      "|  F|                14|             1|          3| 56715|       0|     1.0|  (1,[],[])|  0.0|[0.0,56715.0,14.0...|[26.4406441203137...|[0.88135480401045...|       0.0|\n",
      "|  F|                14|             1|          3| 64576|       0|     1.0|  (1,[],[])|  0.0|[0.0,64576.0,14.0...|[26.9064314874171...|[0.89688104958057...|       0.0|\n",
      "|  F|                14|             1|          3| 70245|       0|     1.0|  (1,[],[])|  0.0|[0.0,70245.0,14.0...|[26.6409206936044...|[0.88803068978681...|       0.0|\n",
      "|  F|                14|             1|          4| 40000|       0|     1.0|  (1,[],[])|  0.0|[0.0,40000.0,14.0...|[26.6973017807256...|[0.88991005935752...|       0.0|\n",
      "|  F|                14|             1|          4| 40000|       0|     1.0|  (1,[],[])|  0.0|[0.0,40000.0,14.0...|[26.6973017807256...|[0.88991005935752...|       0.0|\n",
      "|  F|                14|             1|          4| 55378|       0|     1.0|  (1,[],[])|  0.0|[0.0,55378.0,14.0...|[26.2100902452884...|[0.87366967484294...|       0.0|\n",
      "|  F|                14|             1|          4| 55571|       1|     1.0|  (1,[],[])|  1.0|[0.0,55571.0,14.0...|[25.9811158863140...|[0.86603719621046...|       0.0|\n",
      "|  F|                14|             1|          4| 59416|       0|     1.0|  (1,[],[])|  0.0|[0.0,59416.0,14.0...|[26.4408860012565...|[0.88136286670855...|       0.0|\n",
      "|  F|                14|             1|          4| 67023|       1|     1.0|  (1,[],[])|  1.0|[0.0,67023.0,14.0...|[25.5147257929381...|[0.85049085976460...|       0.0|\n",
      "|  F|                14|             1|          4| 75338|       0|     1.0|  (1,[],[])|  0.0|[0.0,75338.0,14.0...|[26.3882890113289...|[0.87960963371096...|       0.0|\n",
      "|  F|                14|             1|          5| 69567|       0|     1.0|  (1,[],[])|  0.0|[0.0,69567.0,14.0...|[26.1914875388709...|[0.87304958462903...|       0.0|\n",
      "|  F|                14|             2|          2| 40299|       1|     1.0|  (1,[],[])|  1.0|[0.0,40299.0,14.0...|[26.7871692720573...|[0.89290564240191...|       0.0|\n",
      "+---+------------------+--------------+-----------+------+--------+--------+-----------+-----+--------------------+--------------------+--------------------+----------+\n",
      "only showing top 20 rows\n",
      "\n"
     ]
    }
   ],
   "source": [
    "b.show() # b is test_df"
   ]
  },
  {
   "cell_type": "code",
   "execution_count": 441,
   "metadata": {},
   "outputs": [
    {
     "name": "stdout",
     "output_type": "stream",
     "text": [
      "Train Area Under ROC: 0.5091308497664071\n"
     ]
    }
   ],
   "source": [
    "evaluator = BinaryClassificationEvaluator()\n",
    "print(\"Train Area Under ROC: \" + str(evaluator.evaluate(a, {evaluator.metricName: \"areaUnderROC\"}))) #traindatset"
   ]
  },
  {
   "cell_type": "code",
   "execution_count": 442,
   "metadata": {},
   "outputs": [
    {
     "name": "stdout",
     "output_type": "stream",
     "text": [
      "\n",
      "  Accuracy  = 0.9010490461265439\n",
      "  Error     = 0.0989509538734561\n",
      "  Precision = 0.8118893835255546\n",
      "  Recall    = 0.9010490461265439\n",
      "  F1        = 0.8541488029252149\n"
     ]
    }
   ],
   "source": [
    "eval_accuracy = (MulticlassClassificationEvaluator\n",
    "        (labelCol=\"label\", predictionCol=\"prediction\", metricName=\"accuracy\"))\n",
    "eval_precision = (MulticlassClassificationEvaluator\n",
    "        (labelCol=\"label\", predictionCol=\"prediction\", metricName=\"weightedPrecision\"))\n",
    "  \n",
    "eval_recall = (MulticlassClassificationEvaluator\n",
    "        (labelCol=\"label\", predictionCol=\"prediction\", metricName=\"weightedRecall\"))\n",
    "  \n",
    "eval_f1 = (MulticlassClassificationEvaluator\n",
    "        (labelCol=\"label\", predictionCol=\"prediction\", metricName=\"f1\"))\n",
    "\n",
    "accuracy = eval_accuracy.evaluate(a)\n",
    "accuracy1 = eval_accuracy.evaluate(a)\n",
    "\n",
    "precision =  eval_precision.evaluate(a)\n",
    "recall =  eval_recall.evaluate(a)\n",
    "\n",
    "f1 =  eval_f1.evaluate(a)  # train dataset\n",
    "\n",
    "print(f\"\"\"\n",
    "  Accuracy  = {accuracy}\n",
    "  Error     = {1-accuracy}\n",
    "  Precision = {precision}\n",
    "  Recall    = {recall}\n",
    "  F1        = {f1}\"\"\")"
   ]
  },
  {
   "cell_type": "markdown",
   "metadata": {},
   "source": [
    "Roc is the criteria for RF on based on probability this is the cutoff for predictions"
   ]
  },
  {
   "cell_type": "code",
   "execution_count": 439,
   "metadata": {
    "scrolled": true
   },
   "outputs": [
    {
     "name": "stdout",
     "output_type": "stream",
     "text": [
      "Test Area Under ROC: 0.5193200841333179\n"
     ]
    }
   ],
   "source": [
    "evaluator = BinaryClassificationEvaluator()\n",
    "print(\"Test Area Under ROC: \" + str(evaluator.evaluate(b, {evaluator.metricName: \"areaUnderROC\"}))) #test"
   ]
  },
  {
   "cell_type": "code",
   "execution_count": 440,
   "metadata": {
    "scrolled": true
   },
   "outputs": [
    {
     "name": "stdout",
     "output_type": "stream",
     "text": [
      "\n",
      "  Accuracy  = 0.8990653171837841\n",
      "  Error     = 0.10093468281621587\n",
      "  Precision = 0.8083184445627782\n",
      "  Recall    = 0.8990653171837841\n",
      "  F1        = 0.8512802979957244\n"
     ]
    }
   ],
   "source": [
    "eval_accuracy = (MulticlassClassificationEvaluator\n",
    "        (labelCol=\"label\", predictionCol=\"prediction\", metricName=\"accuracy\"))\n",
    "eval_precision = (MulticlassClassificationEvaluator\n",
    "        (labelCol=\"label\", predictionCol=\"prediction\", metricName=\"weightedPrecision\"))\n",
    "  \n",
    "eval_recall = (MulticlassClassificationEvaluator\n",
    "        (labelCol=\"label\", predictionCol=\"prediction\", metricName=\"weightedRecall\"))\n",
    "  \n",
    "eval_f1 = (MulticlassClassificationEvaluator\n",
    "        (labelCol=\"label\", predictionCol=\"prediction\", metricName=\"f1\"))\n",
    "\n",
    "accuracy = eval_accuracy.evaluate(b)\n",
    "accuracy1 = eval_accuracy.evaluate(b)\n",
    "\n",
    "precision =  eval_precision.evaluate(b)\n",
    "recall =  eval_recall.evaluate(b)\n",
    "\n",
    "f1 =  eval_f1.evaluate(b)  # test dataset\n",
    "\n",
    "print(f\"\"\"\n",
    "  Accuracy  = {accuracy}\n",
    "  Error     = {1-accuracy}\n",
    "  Precision = {precision}\n",
    "  Recall    = {recall}\n",
    "  F1        = {f1}\"\"\")\n"
   ]
  },
  {
   "cell_type": "markdown",
   "metadata": {},
   "source": [
    "here accuracy of train data is more than test data so it overfitting\n",
    "hence we require more data to predict and add many features like titles,departmentname and managers but by joining them i'm getting less no of observations so i simply stick to where dataset is large\n",
    "its always better to have train data accuracy greater than test data accuracy because when more data comes in pipeline we dont want the model to be overfitting."
   ]
  },
  {
   "cell_type": "markdown",
   "metadata": {},
   "source": [
    "Here Roc means the cutoff for which my model  is prediction that these guys are likly to leave and stay in company\n",
    "factors like salary,sex,no of project,last-year performance index"
   ]
  },
  {
   "cell_type": "code",
   "execution_count": null,
   "metadata": {},
   "outputs": [],
   "source": []
  },
  {
   "cell_type": "code",
   "execution_count": 393,
   "metadata": {},
   "outputs": [],
   "source": []
  },
  {
   "cell_type": "code",
   "execution_count": 387,
   "metadata": {},
   "outputs": [],
   "source": []
  },
  {
   "cell_type": "code",
   "execution_count": 397,
   "metadata": {},
   "outputs": [],
   "source": []
  },
  {
   "cell_type": "code",
   "execution_count": null,
   "metadata": {},
   "outputs": [],
   "source": []
  },
  {
   "cell_type": "code",
   "execution_count": null,
   "metadata": {},
   "outputs": [],
   "source": []
  },
  {
   "cell_type": "code",
   "execution_count": null,
   "metadata": {},
   "outputs": [],
   "source": []
  },
  {
   "cell_type": "code",
   "execution_count": null,
   "metadata": {},
   "outputs": [],
   "source": []
  },
  {
   "cell_type": "code",
   "execution_count": null,
   "metadata": {},
   "outputs": [],
   "source": []
  },
  {
   "cell_type": "code",
   "execution_count": null,
   "metadata": {},
   "outputs": [],
   "source": []
  },
  {
   "cell_type": "code",
   "execution_count": null,
   "metadata": {},
   "outputs": [],
   "source": []
  },
  {
   "cell_type": "code",
   "execution_count": null,
   "metadata": {},
   "outputs": [],
   "source": []
  },
  {
   "cell_type": "code",
   "execution_count": null,
   "metadata": {},
   "outputs": [],
   "source": []
  },
  {
   "cell_type": "code",
   "execution_count": null,
   "metadata": {},
   "outputs": [],
   "source": []
  },
  {
   "cell_type": "code",
   "execution_count": null,
   "metadata": {},
   "outputs": [],
   "source": []
  },
  {
   "cell_type": "code",
   "execution_count": null,
   "metadata": {},
   "outputs": [],
   "source": []
  },
  {
   "cell_type": "code",
   "execution_count": null,
   "metadata": {},
   "outputs": [],
   "source": []
  },
  {
   "cell_type": "code",
   "execution_count": null,
   "metadata": {},
   "outputs": [],
   "source": []
  },
  {
   "cell_type": "code",
   "execution_count": null,
   "metadata": {},
   "outputs": [],
   "source": []
  },
  {
   "cell_type": "code",
   "execution_count": null,
   "metadata": {},
   "outputs": [],
   "source": []
  },
  {
   "cell_type": "code",
   "execution_count": null,
   "metadata": {},
   "outputs": [],
   "source": []
  },
  {
   "cell_type": "code",
   "execution_count": null,
   "metadata": {},
   "outputs": [],
   "source": []
  },
  {
   "cell_type": "code",
   "execution_count": null,
   "metadata": {},
   "outputs": [],
   "source": []
  },
  {
   "cell_type": "code",
   "execution_count": null,
   "metadata": {},
   "outputs": [],
   "source": []
  },
  {
   "cell_type": "code",
   "execution_count": null,
   "metadata": {},
   "outputs": [],
   "source": []
  },
  {
   "cell_type": "code",
   "execution_count": null,
   "metadata": {},
   "outputs": [],
   "source": []
  },
  {
   "cell_type": "code",
   "execution_count": null,
   "metadata": {},
   "outputs": [],
   "source": []
  },
  {
   "cell_type": "code",
   "execution_count": null,
   "metadata": {},
   "outputs": [],
   "source": []
  },
  {
   "cell_type": "code",
   "execution_count": null,
   "metadata": {},
   "outputs": [],
   "source": []
  },
  {
   "cell_type": "code",
   "execution_count": null,
   "metadata": {},
   "outputs": [],
   "source": []
  },
  {
   "cell_type": "code",
   "execution_count": null,
   "metadata": {},
   "outputs": [],
   "source": []
  },
  {
   "cell_type": "code",
   "execution_count": null,
   "metadata": {},
   "outputs": [],
   "source": []
  },
  {
   "cell_type": "code",
   "execution_count": null,
   "metadata": {},
   "outputs": [],
   "source": []
  }
 ],
 "metadata": {
  "kernelspec": {
   "display_name": "Python 3 (ipykernel)",
   "language": "python",
   "name": "python3"
  },
  "language_info": {
   "codemirror_mode": {
    "name": "ipython",
    "version": 3
   },
   "file_extension": ".py",
   "mimetype": "text/x-python",
   "name": "python",
   "nbconvert_exporter": "python",
   "pygments_lexer": "ipython3",
   "version": "3.9.7"
  }
 },
 "nbformat": 4,
 "nbformat_minor": 4
}
